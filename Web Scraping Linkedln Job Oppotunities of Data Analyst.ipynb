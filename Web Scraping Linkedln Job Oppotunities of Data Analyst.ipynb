{
 "cells": [
  {
   "cell_type": "code",
   "execution_count": 1,
   "id": "d2118535",
   "metadata": {},
   "outputs": [],
   "source": [
    "# Import all the needed libraries\n",
    "import time\n",
    "import selenium\n",
    "from selenium import webdriver\n",
    "from selenium.webdriver.chrome.service import Service\n",
    "from selenium.webdriver.common.by import By\n",
    "from selenium.webdriver.support.ui import WebDriverWait\n",
    "from selenium.webdriver.support import expected_conditions as EC\n",
    "from selenium.webdriver.common.keys import Keys\n",
    "import pandas as pd\n",
    "import numpy as np\n",
    "import matplotlib.pyplot as plt\n",
    "from matplotlib.pyplot import figure\n",
    "import requests"
   ]
  },
  {
   "cell_type": "code",
   "execution_count": 2,
   "id": "a584b90b",
   "metadata": {},
   "outputs": [],
   "source": [
    "# Locate the driver\n",
    "s=Service('/Users/chris/Desktop/Chris1104/Linedln_Crawling/chromedriver.exe')\n",
    "driver = webdriver.Chrome(service=s)"
   ]
  },
  {
   "cell_type": "code",
   "execution_count": 3,
   "id": "e9a46ec5",
   "metadata": {},
   "outputs": [],
   "source": [
    "# Show and maximize Window\n",
    "driver.maximize_window() \n",
    "driver.switch_to.window(driver.current_window_handle)\n",
    "driver.implicitly_wait(10)"
   ]
  },
  {
   "cell_type": "code",
   "execution_count": 4,
   "id": "0ed1a96b",
   "metadata": {},
   "outputs": [],
   "source": [
    "# Enter a login page\n",
    "driver.get('https://www.linkedin.com/login');\n",
    "time.sleep(2)"
   ]
  },
  {
   "cell_type": "code",
   "execution_count": 5,
   "id": "371c74aa",
   "metadata": {},
   "outputs": [],
   "source": [
    "# Reading txt file with my credentials\n",
    "with open('user_credentials.txt', 'r',encoding=\"utf-8\") as file:\n",
    "    user_credentials = file.readlines()\n",
    "    user_credentials = [line.rstrip() for line in user_credentials]\n",
    "user_name = user_credentials[0] # First line\n",
    "password = user_credentials[1] # Second line\n",
    "driver.find_element('xpath','//*[@id=\"username\"]').send_keys(user_name)\n",
    "driver.find_element('xpath','//*[@id=\"password\"]').send_keys(password)\n",
    "time.sleep(1)"
   ]
  },
  {
   "cell_type": "code",
   "execution_count": 6,
   "id": "ba12f7f3",
   "metadata": {},
   "outputs": [],
   "source": [
    "# Click and Login\n",
    "driver.find_element('xpath','//*[@id=\"organic-div\"]/form/div[3]/button').click()\n",
    "driver.implicitly_wait(30)"
   ]
  },
  {
   "cell_type": "markdown",
   "id": "9fe80ba0",
   "metadata": {},
   "source": [
    "## Data Analyst Job Market in Western Europe"
   ]
  },
  {
   "cell_type": "code",
   "execution_count": 7,
   "id": "a6627c4a",
   "metadata": {},
   "outputs": [],
   "source": [
    "# Access to the Jobs button and click it\n",
    "driver.find_element('xpath','//*[@id=\"global-nav\"]/div/nav/ul/li[3]/a').click()\n",
    "time.sleep(3)\n",
    "\n",
    "result = []\n",
    "# Ideal Conditions: \n",
    "# 1. Can accept hybrid/onsite/wfm\n",
    "# 2. Date: past month\n",
    "# 3. Distance: in 25 km\n",
    "# 4. There are no other reuqirements\n",
    "# I am curious to see the job market in western Europe I am interested to live, study, and work.\n",
    "country = ['Austria','Germany','Netherlands','United Kingdom','Switzerland','Belgium','Luxembourg','France']\n",
    "for i in range(len(country)):\n",
    "    # Go to search results directly via link\n",
    "    url = 'https://www.linkedin.com/jobs/search/?distance=25&f_TPR=r2592000&f_WT=1%2C2%2C3&keywords=data%20analyst&location=' + country[i]\n",
    "    driver.get(url)\n",
    "    time.sleep(1)\n",
    "    result.append(driver.find_element(By.CLASS_NAME, 'jobs-search-results-list__subtitle').text.replace(' results', '') )"
   ]
  },
  {
   "cell_type": "code",
   "execution_count": 8,
   "id": "8bd1c5ef",
   "metadata": {},
   "outputs": [],
   "source": [
    "# Transform texts into numbers\n",
    "for i in range(len(result)):\n",
    "    result[i] =  int(result[i].replace(',',''))"
   ]
  },
  {
   "cell_type": "code",
   "execution_count": 9,
   "id": "c8ef269b",
   "metadata": {},
   "outputs": [
    {
     "data": {
      "text/plain": [
       "<AxesSubplot:xlabel='Country'>"
      ]
     },
     "execution_count": 9,
     "metadata": {},
     "output_type": "execute_result"
    },
    {
     "data": {
      "image/png": "iVBORw0KGgoAAAANSUhEUgAAAYQAAAFNCAYAAAAAWhivAAAAOXRFWHRTb2Z0d2FyZQBNYXRwbG90bGliIHZlcnNpb24zLjMuNCwgaHR0cHM6Ly9tYXRwbG90bGliLm9yZy8QVMy6AAAACXBIWXMAAAsTAAALEwEAmpwYAAAvrUlEQVR4nO3debxdZX32/89FQgkyCSFSSoAwOYQgQWLAoohiSxwhCjVUC23BCMWq1acK9vcTsNAHFUGpgkVmHEiqIIigMohIi4mBJmAASywRUhDCIAQ1aML1/LHuDfuc7DMkOeesddjX+/Xar733vdfw3Sc557vWPco2ERERG9QdQERENEMSQkREAEkIERFRJCFERASQhBAREUUSQkREADC27gDW1dZbb+1JkybVHUZExKhy2223PWp7QqfPRm1CmDRpEgsWLKg7jIiIUUXSL/v6LFVGEREBJCFERESRhBAREcAobkOIiNHpD3/4A8uWLWPlypV1h/KCNm7cOCZOnMiGG2446H0GnRAkjQEWAP9r+22StgLmAJOApcBf2H6ibHsCcBSwGvig7e+X8r2Bi4CNgWuAD9m2pI2AS4C9gceAd9teOuhvERGjxrJly9hss82YNGkSkuoO5wXJNo899hjLli1jp512GvR+a1Nl9CHg7rb3xwM32N4NuKG8R9JkYBawOzADOLskE4BzgNnAbuUxo5QfBTxhe1fgTODTaxFXRIwiK1euZPz48UkGw0gS48ePX+u7sEElBEkTgbcC57UVHwxcXF5fDBzSVn6Z7Wds3wcsAaZL2hbY3PatrubcvqTXPq1jfRM4UPnfEvGClV/v4bcuP+PB3iF8HvgY8Gxb2Ta2HwIozy8p5dsBD7Rtt6yUbVde9y7vsY/tVcCTwPjBfomIiFh/A7YhSHob8Ijt2yQdMIhjdkpL7qe8v316xzKbqsqJHXbYYRChVCYd/91BbzsYS09765AeL6Kb1fH7uemmm/L00093/Oymm27i9NNP5+qrrx7U+Z5++mk++tGPcv311zNu3DjGjx/PZz/7WfbZZ5+1irs/Cxcu5MEHH+Qtb3nLkB2zk8HcIewHvEPSUuAy4I2Svgo8XKqBKM+PlO2XAdu37T8ReLCUT+xQ3mMfSWOBLYDHewdi+1zb02xPmzCh48jriIgRdfTRR7PVVltx7733snjxYi666CIeffTRIT3HwoULueaaa4b0mJ0MmBBsn2B7ou1JVI3FN9p+L3AVcGTZ7EjgyvL6KmCWpI0k7UTVeDy/VCutkLRvaR84otc+rWMdWs6RtT0jYtjY5h//8R+ZMmUKe+yxB3PmzHnus6eeeoqZM2cyefJkjjnmGJ599tmOx/jFL37BvHnzOOWUU9hgg+rP6c4778xb31rdpZxxxhlMmTKFKVOm8PnPfx6ApUuXMmXKlOeOcfrpp3PSSScBcMABB/Dxj3+c6dOn89KXvpQf//jH/P73v+eTn/wkc+bMYerUqcyZM4cf/ehHTJ06lalTp7LXXnuxYsWKIfmZrM84hNOAuZKOAu4HDgOwvVjSXOAuYBVwnO3VZZ9jeb7b6bXlAXA+cKmkJVR3BrPWI66IiAFdfvnlLFy4kEWLFvHoo4/y6le/mv333x+A+fPnc9ddd7HjjjsyY8YMLr/8cg499NA1jrF48WKmTp3KmDFj1vjstttu48ILL2TevHnYZp999uH1r389W265Zb9xrVq1ivnz53PNNddw8sknc/311/OpT32KBQsW8MUvfhGAt7/97XzpS19iv/324+mnn2bcuHFD8BNZy5HKtm+y/bby+jHbB9rerTw/3rbdqbZ3sf0y29e2lS+wPaV89oHWXYDtlbYPs72r7em2/2dIvl1ERB9uueUWDj/8cMaMGcM222zD61//en76058CMH36dHbeeWfGjBnD4Ycfzi233LJOx585cyabbLIJm266Ke985zv58Y9/POB+73znOwHYe++9Wbp0acdt9ttvPz7ykY9w1lln8etf/5qxY4dmjHGmroiIrtRfrXTvLpt9deHcfffdWbRoUccqpb6OP3bs2B7b9x4rsNFGGwEwZswYVq1a1fEYxx9/POeddx6/+93v2Hfffbnnnnv6/C5rIwkhIrrS/vvvz5w5c1i9ejXLly/n5ptvZvr06UBVZXTffffx7LPPMmfOHF772td2PMYuu+zCtGnTOPHEE59LAPfeey9XXnkl+++/P9/+9rf57W9/y29+8xuuuOIKXve617HNNtvwyCOP8Nhjj/HMM88MqjfTZptt1qOd4Be/+AV77LEHH//4x5k2bdqQJYTMZRQRtRrpbtyrVq1io402YubMmdx6663sueeeSOIzn/kMf/zHf8w999zDa17zGo4//njuvPNO9t9/f2bOnNnn8c477zw++tGPsuuuu/KiF73ouW6nr3rVq/jrv/7r55LM0UcfzV577QXAJz/5SfbZZx922mknXv7ylw8Y8xve8AZOO+00pk6dygknnMAtt9zCD3/4Q8aMGcPkyZN585vfPCQ/G43WzjzTpk3zYBfIyTiEiOa4++67ecUrXlHb+RctWsT73vc+5s+fX1sMI6XTz1rSbbanddo+VUYR0TW+/OUvc/jhh3PKKafUHUojpcooIrrGMcccwzHHHLNO++6zzz4888wzPcouvfRS9thjj6EIrRGSECIiBmHevHl1hzDsUmUUESNutLZdjibr8jNOQoiIETVu3Dgee+yxJIVh1FogZ21HMKfKKCJG1MSJE1m2bBnLly+vO5QXtNYSmmsjCSEiRtSGG264Vss6xshJlVFERABJCBERUSQhREQEkIQQERFFEkJERABJCBERUQyYECSNkzRf0iJJiyWdXMpPkvS/khaWx1va9jlB0hJJP5d0UFv53pLuLJ+dVdZWpqy/PKeUz5M0aRi+a0RE9GMwdwjPAG+0vScwFZghad/y2Zm2p5bHNQCSJlOtibw7MAM4W1JrwdFzgNnAbuUxo5QfBTxhe1fgTODT6/3NIiJirQyYEFx5urzdsDz6G3N+MHCZ7Wds3wcsAaZL2hbY3PatZS3lS4BD2va5uLz+JnBg6+4hIiJGxqDaECSNkbQQeAS4znZr2r8PSLpD0gWStixl2wEPtO2+rJRtV173Lu+xj+1VwJPA+LX/OhERsa4GlRBsr7Y9FZhIdbU/har6ZxeqaqSHgM+VzTtd2buf8v726UHSbEkLJC3IPCgREUNrrXoZ2f41cBMww/bDJVE8C3wFmF42WwZs37bbRODBUj6xQ3mPfSSNBbYAHu9w/nNtT7M9bcKECWsTekREDGAwvYwmSHpxeb0x8CbgntIm0DIT+Fl5fRUwq/Qc2omq8Xi+7YeAFZL2Le0DRwBXtu1zZHl9KHCjMzduRMSIGsxsp9sCF5eeQhsAc21fLelSSVOpqnaWAu8HsL1Y0lzgLmAVcJzt1eVYxwIXARsD15YHwPnApZKWUN0ZzFr/rxYREWtjwIRg+w5grw7lf9XPPqcCp3YoXwBM6VC+EjhsoFgiImL4ZKRyREQASQgREVEkIUREBJCEEBERRRJCREQASQgREVEkIUREBJCEEBERRRJCREQASQgREVEkIUREBJCEEBERRRJCREQASQgREVEkIUREBJCEEBERRRJCREQAg1tTeZyk+ZIWSVos6eRSvpWk6yTdW563bNvnBElLJP1c0kFt5XtLurN8dlZZW5my/vKcUj5P0qRh+K4REdGPwdwhPAO80faewFRghqR9geOBG2zvBtxQ3iNpMtWayLsDM4Czy3rMAOcAs4HdymNGKT8KeML2rsCZwKfX/6tFRMTaGDAhuPJ0ebtheRg4GLi4lF8MHFJeHwxcZvsZ2/cBS4DpkrYFNrd9q20Dl/Tap3WsbwIHtu4eIiJiZAyqDUHSGEkLgUeA62zPA7ax/RBAeX5J2Xw74IG23ZeVsu3K697lPfaxvQp4Ehi/Dt8nIiLW0aASgu3VtqcCE6mu9qf0s3mnK3v3U97fPj0PLM2WtEDSguXLlw8QdURErI216mVk+9fATVR1/w+XaiDK8yNls2XA9m27TQQeLOUTO5T32EfSWGAL4PEO5z/X9jTb0yZMmLA2oUdExAAG08togqQXl9cbA28C7gGuAo4smx0JXFleXwXMKj2HdqJqPJ5fqpVWSNq3tA8c0Wuf1rEOBW4s7QwRETFCxg5im22Bi0tPoQ2AubavlnQrMFfSUcD9wGEAthdLmgvcBawCjrO9uhzrWOAiYGPg2vIAOB+4VNISqjuDWUPx5SIiYvAGTAi27wD26lD+GHBgH/ucCpzaoXwBsEb7g+2VlIQSERH1yEjliIgAkhAiIqJIQoiICCAJISIiiiSEiIgAkhAiIqJIQoiICCAJISIiiiSEiIgAkhAiIqJIQoiICCAJISIiiiSEiIgAkhAiIqJIQoiICCAJISIiiiSEiIgABrem8vaSfijpbkmLJX2olJ8k6X8lLSyPt7Ttc4KkJZJ+LumgtvK9Jd1ZPjurrK1MWX95TimfJ2nSMHzXiIjox2DuEFYBH7X9CmBf4DhJk8tnZ9qeWh7XAJTPZgG7AzOAs8t6zADnALOB3cpjRik/CnjC9q7AmcCn1/+rRUTE2hgwIdh+yPbt5fUK4G5gu352ORi4zPYztu8DlgDTJW0LbG77VtsGLgEOadvn4vL6m8CBrbuHiIgYGWvVhlCqcvYC5pWiD0i6Q9IFkrYsZdsBD7TttqyUbVde9y7vsY/tVcCTwPi1iS0iItbPoBOCpE2BbwEftv0UVfXPLsBU4CHgc61NO+zufsr726d3DLMlLZC0YPny5YMNPSIiBmFQCUHShlTJ4Gu2Lwew/bDt1bafBb4CTC+bLwO2b9t9IvBgKZ/YobzHPpLGAlsAj/eOw/a5tqfZnjZhwoTBfcOIiBiUwfQyEnA+cLftM9rKt23bbCbws/L6KmBW6Tm0E1Xj8XzbDwErJO1bjnkEcGXbPkeW14cCN5Z2hoiIGCFjB7HNfsBfAXdKWljKPgEcLmkqVdXOUuD9ALYXS5oL3EXVQ+k426vLfscCFwEbA9eWB1QJ51JJS6juDGatz5eKiIi1N2BCsH0Lnev4r+lnn1OBUzuULwCmdChfCRw2UCwRETF8MlI5IiKAJISIiCiSECIiAkhCiIiIIgkhIiKAJISIiCiSECIiAkhCiIiIIgkhIiKAJISIiCiSECIiAkhCiIiIIgkhIiKAJISIiCiSECIiAkhCiIiIIgkhIiKAwa2pvL2kH0q6W9JiSR8q5VtJuk7SveV5y7Z9TpC0RNLPJR3UVr63pDvLZ2eVtZUp6y/PKeXzJE0ahu8aERH9GMwdwirgo7ZfAewLHCdpMnA8cIPt3YAbynvKZ7OA3YEZwNmSxpRjnQPMBnYrjxml/CjgCdu7AmcCnx6C7xYREWthwIRg+yHbt5fXK4C7ge2Ag4GLy2YXA4eU1wcDl9l+xvZ9wBJguqRtgc1t32rbwCW99mkd65vAga27h4iIGBlr1YZQqnL2AuYB29h+CKqkAbykbLYd8EDbbstK2Xblde/yHvvYXgU8CYxfm9giImL9DDohSNoU+BbwYdtP9bdphzL3U97fPr1jmC1pgaQFy5cvHyjkiIhYC4NKCJI2pEoGX7N9eSl+uFQDUZ4fKeXLgO3bdp8IPFjKJ3Yo77GPpLHAFsDjveOwfa7tabanTZgwYTChR0TEII0daINSl38+cLftM9o+ugo4EjitPF/ZVv51SWcAf0LVeDzf9mpJKyTtS1XldATwr72OdStwKHBjaWfoGpOO/+6QH3PpaW8d8mNGxAvXgAkB2A/4K+BOSQtL2SeoEsFcSUcB9wOHAdheLGkucBdVD6XjbK8u+x0LXARsDFxbHlAlnEslLaG6M5i1fl8rIiLW1oAJwfYtdK7jBziwj31OBU7tUL4AmNKhfCUloURERD0yUjkiIoAkhIiIKJIQIiICSEKIiIgiCSEiIoAkhIiIKJIQIiICSEKIiIgiCSEiIoAkhIiIKJIQIiICSEKIiIgiCSEiIoAkhIiIKJIQIiICSEKIiIgiCSEiIoBBJARJF0h6RNLP2spOkvS/khaWx1vaPjtB0hJJP5d0UFv53pLuLJ+dVdZqRtJGkuaU8nmSJg3xd4yIiEEYzB3CRcCMDuVn2p5aHtcASJpMtR7y7mWfsyWNKdufA8wGdiuP1jGPAp6wvStwJvDpdfwuERGxHgZMCLZvplr4fjAOBi6z/Yzt+4AlwHRJ2wKb277VtoFLgEPa9rm4vP4mcGDr7iEiIkbO+rQhfEDSHaVKactSth3wQNs2y0rZduV17/Ie+9heBTwJjF+PuCIiYh2sa0I4B9gFmAo8BHyulHe6snc/5f3tswZJsyUtkLRg+fLlaxVwRET0b50Sgu2Hba+2/SzwFWB6+WgZsH3bphOBB0v5xA7lPfaRNBbYgj6qqGyfa3ua7WkTJkxYl9AjIqIP65QQSptAy0yg1QPpKmBW6Tm0E1Xj8XzbDwErJO1b2geOAK5s2+fI8vpQ4MbSzhARESNo7EAbSPoGcACwtaRlwInAAZKmUlXtLAXeD2B7saS5wF3AKuA426vLoY6l6rG0MXBteQCcD1wqaQnVncGsIfheMUwmHf/dIT/m0tPeOuTHjIi1N2BCsH14h+Lz+9n+VODUDuULgCkdylcChw0UR0REDK+MVI6ICCAJISIiiiSEiIgAkhAiIqJIQoiICCAJISIiiiSEiIgAkhAiIqJIQoiICCAJISIiiiSEiIgAkhAiIqJIQoiICCAJISIiiiSEiIgAkhAiIqJIQoiICGAQCUHSBZIekfSztrKtJF0n6d7yvGXbZydIWiLp55IOaivfW9Kd5bOzytrKlPWX55TyeZImDfF3jIiIQRjMHcJFwIxeZccDN9jeDbihvEfSZKo1kXcv+5wtaUzZ5xxgNrBbebSOeRTwhO1dgTOBT6/rl4mIiHU3YEKwfTPweK/ig4GLy+uLgUPayi+z/Yzt+4AlwHRJ2wKb277VtoFLeu3TOtY3gQNbdw8RETFy1rUNYRvbDwGU55eU8u2AB9q2W1bKtiuve5f32Mf2KuBJYPw6xhUREetoqBuVO13Zu5/y/vZZ8+DSbEkLJC1Yvnz5OoYYERGdrGtCeLhUA1GeHynly4Dt27abCDxYyid2KO+xj6SxwBasWUUFgO1zbU+zPW3ChAnrGHpERHSyrgnhKuDI8vpI4Mq28lml59BOVI3H80u10gpJ+5b2gSN67dM61qHAjaWdISIiRtDYgTaQ9A3gAGBrScuAE4HTgLmSjgLuBw4DsL1Y0lzgLmAVcJzt1eVQx1L1WNoYuLY8AM4HLpW0hOrOYNaQfLOIiFgrAyYE24f38dGBfWx/KnBqh/IFwJQO5SspCSUiIuqTkcoREQEkIURERJGEEBERQBJCREQUSQgREQEkIURERJGEEBERQBJCREQUSQgREQEkIURERDHg1BURo9Gk47875Mdcetpbh/yYEU2SO4SIiACSECIiokhCiIgIIAkhIiKKJISIiACSECIiolivhCBpqaQ7JS2UtKCUbSXpOkn3luct27Y/QdISST+XdFBb+d7lOEsknVXWXY6IiBE0FHcIb7A91fa08v544AbbuwE3lPdImky1XvLuwAzgbEljyj7nALOB3cpjxhDEFRERa2E4BqYdDBxQXl8M3AR8vJRfZvsZ4D5JS4DpkpYCm9u+FUDSJcAhwLXDEFtEo2QAXTTJ+iYEAz+QZODfbJ8LbGP7IQDbD0l6Sdl2O+AnbfsuK2V/KK97l0dEQyRxdYf1TQj72X6w/NG/TtI9/WzbqV3A/ZSveQBpNlXVEjvssMPaxhoREf1YrzYE2w+W50eAK4DpwMOStgUoz4+UzZcB27ftPhF4sJRP7FDe6Xzn2p5me9qECRPWJ/SIiOhlnROCpE0kbdZ6Dfw58DPgKuDIstmRwJXl9VXALEkbSdqJqvF4fqleWiFp39K76Ii2fSIiYoSsT5XRNsAVpYfoWODrtr8n6afAXElHAfcDhwHYXixpLnAXsAo4zvbqcqxjgYuAjakak9OgHBExwtY5Idj+H2DPDuWPAQf2sc+pwKkdyhcAU9Y1loiIWH8ZqRwREUASQkREFEkIEREBJCFERESRhBAREUASQkREFMMxuV1ERC0y59L6yR1CREQASQgREVEkIUREBJCEEBERRRJCREQASQgREVEkIUREBJCEEBERRRJCREQASQgREVE0ZuoKSTOALwBjgPNsn1ZzSBERQ67J02s04g5B0hjgS8CbgcnA4ZIm1xtVRER3aURCAKYDS2z/j+3fA5cBB9ccU0REV2lKQtgOeKDt/bJSFhERI0S2644BSYcBB9k+urz/K2C67b/vtd1sYHZ5+zLg50McytbAo0N8zOGQOIfWaIhzNMQIiXOoDUecO9qe0OmDpjQqLwO2b3s/EXiw90a2zwXOHa4gJC2wPW24jj9UEufQGg1xjoYYIXEOtZGOsylVRj8FdpO0k6Q/AmYBV9UcU0REV2nEHYLtVZI+AHyfqtvpBbYX1xxWRERXaURCALB9DXBNzWEMW3XUEEucQ2s0xDkaYoTEOdRGNM5GNCpHRET9mtKGEBERNUtCiIgIoEFtCHUoU2a8FZhE28/C9hl1xRQRUZeuTgjAd4CVwJ3AszXH0i9JLwI+Cuxg+32SdgNeZvvqmkPrQdJ+wELbv5H0XuBVwBds/7Lm0J5TerR9zfYTdcfSiaR39ve57ctHKpbBkvRK1rywakycksYBRwG7A+Na5bb/trag+iDpVR2KnwR+aXvVcJ672xPCRNuvrDuIQboQuA14TXm/DPh3oFEJATgH2FPSnsDHgPOBS4DX1xpVT38M/FTS7cAFwPfdrN4Vby/PLwH+FLixvH8DcBPQmD+0AJIuAF4JLOb5CyvTrDgvBe4BDgI+BbwHuLvWiPp2NtWF1B2AgCnl9XhJx9j+wbCd2XbXPoBPA39edxyDjHVBef6vtrJFdcfVIc7by/MngaPay5r0KL9oB1FNpLgE+Bdgl7rj6hXj1cC2be+3BS6vO64Ocd5VdwyDiPG/yvMd5XlD4Ma64+oj1suA3dveT6a6INyZ6u572M7d7Y3KPwGukPQ7SU9JWiHpqbqD6sPvJW1MdeWFpF2AZ+oNqaMVkk4A3gt8t7TTbFhzTGtw9Zv2q/JYBWwJfFPSZ2oNrKdJth9qe/8w8NK6gunHraNguvo/lOdfS5oCbEFVxdVEL3fbwFzbdwF72f6f4T5xt1cZfY6qCubO8geiyU4EvgdsL+lrwH7AX9caUWfvBv6S6u7gV5J2AD5bc0w9SPogcCTVpGHnAf9o+w+SNgDuparqaoKbJH0f+AbVhcAs4If1htTRxVRJ4VdUFymiyrlNqo49V9KWwP9PNS3OplR3sU3035LOobpTgOp36r8lbcTziW1YdPXAtPLL9mbbjW5QbpE0HtiX6hfuJ7ZHw2yNjSPpU8D57tDQLekVthtTt1wamF9X3t5s+4o64+lE0hLgI/TqnNHp5xsDKzUBfwe8lup3/RaqdoWVwItsPz1s5+7yhHARVb3ctbRVv7iB3U4lzaSq83yyvH8xcIDtb9cZV4ukFZTqrE5sbz6C4QyoVGVtQ89eMffXF9HoJelG22+sO45OJL3X9lclfaTT5037XS//L79v+011nL/bq4zuK48/Ko8mO7H96tD2ryWdCHy7vpCeZ3szeO7q+1dUvTpE1ZtjsxpDW0PpdnoSVZ18e6+YJlVxtO4OPk3V20g8XxXTqOQK3CPp61TduNsvrJrQy2iT8tyo/4N9sb1a0m8lbdG6+BtJXX2H0CJpM6pftGG7FVtfku7oXScr6U7be9QVUyeS5tneZ6CyOpUqjn1sP1Z3LP0pcb69SVVYnUi6sEOx3ZA+/uWq+4O2z6w7lsGQNJeqavg64DetctsfHO5zd/UdQultcCmwVXn/KHCEmzn19gJJZwBforqa/XuqcQlNs1rSe6gaxAwcDqyuN6Q1PEA10KfpHm56MgCw/Td1x9CfctX9DmBUJATgu+Ux4rr6DkHSfwL/ZPuH5f0BwL/Y/tM64+pE0iZUPSTeRFV18APgFNu/6XfHESZpEvAFql5QBv4D+LDtpTWG1YOk86mWYP0uDW47kvQFqkF036Z5VTHPKXcIa/whacodAoCkU6m6ms6h51X37bUF1UBdfYcAbNJKBgC2byp/eBun/OE/vu44BlL+8B9cdxwDuL88mt52tDnwW+DP28qaNgIYeo6WHwfMpMMSuDVrXeR9qq3MQOMawyXdR+cEu/Own7vL7xCuAG6nqjaCajDVNNuH1BZUHyS9FPg/rDlfTKP+Q0uaALyPNeNszNViDK8ynuP6Jv3flLRz74FdncqaoHQvbxkHHAZsZXvYx010e0LYEjiZ5/v73gyc5AZOeiZpEfBlqnaD5+rkbTeqHaFUw/2YNeP8Vm1B9VKS1sdYc6KzxvwBg9E1IVs7SS8Dvmt717pjaZF0u+1X9Sq7zfbedcW0NiTdYvu1w32erq4yKn/4h73lfoissn1O3UEMwotsf7zuIAbwNaq65LcBx1CNWl5ea0SdjYoJ2drGoKg8/wpoxP8BSS+nSqhb9JpFdnPakmyT9JrtdANgGiPUbbYr7xAkfYf+B1G9YwTDGRRJJwGPAFfQs4Hx8bpi6kTSKcB/uloju5FaV4btXXkl/ch2k2ZkRdJ/2d6rFaekDakGLTXqTqbJJB0MHAK8g2rKipYVwGW2/7OOuPojqX16klXAUuB02z8f7nN36x3C6eX5nVS9OL5a3h9O9cNvoiPL8z+2lZlqpHWTfAj4hKRnqOZdaeJgqtZ8MA9JeitVA+jEGuPpS+8J2X5FgyZkk/Ry2/f0MX9/I3rw2L4SuFLSa2zfWnc8g2H7DXWduyvvEFok3Wx7/4HK4oVF0tuo2jm2B/6VqvrgZNtX9bvjCJN0NPAtqhHUF1ImZLP95VoDKySda3t2ryvaFjfpTqbMYnsK8DuqSSL3pOoO/dV+d6yBpC2oJrNs/R36EfCpkRi53O0J4W7gra2eBpJ2Aq6x/Yp6I+usXCVOpmcD4yX1RdRZaazfjZ5x3lxfRNHtJC20PbXMCXYI8A/AD23vWW9ka5L0LeBnVLPIAvwVsKftflfSGwrdWmXU8g9UUwy3up5NAt5fXzh9K/MWHUCVEK4B3kw1C2KjEkK5qv0QVRXMQqoh+LfSoP7eJfH/PWt2jW1E21FfE7G1NHAAXac/VE9STSv/yEjH04fWmhxvAb5h+3FJdcbTn11sv6vt/cmSFo7Eibs6Idj+nqq1iV9eiu6x3cRFZwAOpbrN/S/bfyNpG6q5/JvmQ8CrqabnfkPp5XFyzTH19m2qpT2/QzPX0h4VE7G1OYpqXZFW1dEBVItPvVTSp2xf2teOI+g7ku6hqjL6u9L1eGXNMfXld5Jea/sWeG6d8t+NxIm7OiF0uLLZRVLTrmxafmf7WUmrJG1O1eOoaQ3KACttr5SEpI1Ko+PL6g6ql5W2z6o7iL7YPnmUTcj2LPAK2w8DlIuVc4B9qMb21J4QbB8v6dPAU2Vuo9/Q3BH1xwIXl7YEAY/zfKeSYdXVCYHnr2xupPrBH0DzrmxaFpQ1EL5CNejraWB+rRF1tqzE+W3gOklP0LxpDL5QquB+QM8uvLX3imkZZROyTWolg+IR4KWlWmZYV/gaLElHtL1u/6hRVa4AthcCe5YLP2yP2LK+3d6o/B3g6A5XNkdTrU41pc74WlT9D55o+4HyfhKwue07ag1sAJJeTzWh2Pds/77ueFok/V+qhrpf0LYeQpN6xcDomZBN0tnADsC/l6J3AcuoukhfXWc3yhZJ/9r2dhxwIHC77UNrCqlPZeqKE6lmUDBVW+GnRmK69m5PCD3WEyh/eO+0PaU1KKjG8Hpo+jB7SVv193mTBtCVuuRXNilJdTIaunPCc78376Ka4ba15OO33OA/LqU65tKmdCRoJ+k6qqq2VpfY91Ctjjjsq6h1e5XRjyVdTc8rm5vLjKe/ri2qzn4i6dW2f1p3IH24jeenL2hpn86gSe0di4AXU1VtNFYTrqwHo/zh/2Z5jBa/BV5adxB92Mr2P7e9P0XSISNx4m6/Qxg1VzaS7qKaw38pVfVBawRwY5Z9LD/P7d3wtYkl3UQ12Oun9GxDaNTVYqnC/BfgT2y/WdJk4DW2z685NKDfdbQbNzq913Q1Y4BXAHNtN25KeUmnAwuAuaXoUGB32ycO+7kb+Lcv2kjawfb9knbs9LntX450TP1petUWPNe2sQbbPxrpWPoj6VqqEcr/ZHtPSWOpuh03atnU0aDXv/kqqqR1uO3jagppDb0mCdyE59u3NgCeHokE29VVRhodi5h/G3iV7V9K+lavAStN1OiqLVVz9X+pKR0GBrC17bmSTgCwvUpS05YjBUDSa4HdbF8oaWtgM9v31R1Xi+0fSZoK/CXwF8B9VNOCNIbt2sefdHVCAD5D8xcxb6+Tb1I9fF/eABwjaSkNrNoqYzkWte686o5nAL8pPU4MIGlfGrgWdOnCO42qSvNCqlXovkpVFVsrVQtLzaKauPIxqh5banr7jKRXsuZI+mFfKa/bE8JoWMTcfbxuqjfXHcAgbAssljSfnt05G9WGAHyUasrmXST9BzCBavWsppkJ7EW1+iC2H5RU+9VucQ/VRIZvt70EQNI/1BtS/yRdQNXGtZi2btGMwNKp3Z4QFkiaQ7MXMd9T0lNUV9obl9fQzOotStVWe/XBBKpZOpukaVNpdGT7tlL3/TKqf++f227EQK9efm/bklp3Mk1al/xdVHcIP5T0PeAyet51N9G+tifXceJuTwiNX8Tc9pi6Y1gbHaoPNqQh1QctpT55R6qkdb2kF1H1PGkUSb8APuu26a4lXW37bTWG1clcSf8GvFjS+4C/pRpRXzvbVwBXlCR1CNWElttIOge4wvYP6oyvD7dKmmz7rpE+cXoZxZAqszLuRTUKdK9SdkdT2hAAyh+t2VT9vXdRNcHhl20fWHNoPZQBdIuoLlreb/v3TRsw2SLpz6gurES1qtt1NYfUpzKI8jDg3U0b5AcgaX+qiRd/RVVzMWLtcF15hyDpY7Y/U4azr5ERbY+WdZabqMnVBy3HAdOBeQC275X0knpD6ui3tt8t6WNUgyj/goa2I5UEcF3pYTTsUyysjzJq/t/Ko4kuoJpa5U5GeDberkwIPL9Q+YJao3hhamz1QZtnytU2AKV/fxP/0AqgXLzcBnwf6HeKkJFUej2dRjUb5z9TzWq6NbCBpCNsf6/O+Eax+13T6n3dmhDuB7B9ce8PJB078uG8cNg+vVQfPEXVjvDJBlYf/EjSJ6ga6f8M+DuqW/Sm+WTrhe0bJB3ECE2DPEhfBD5BNQHfjcCbbf9E1RoY36BaqjLW3j2Svk71f3JEO7t0ZRuCqhXSDrN9W6/yk6m6p3VcNDxeGMrgtKN4vjPB9203brEhSTf0btfoVFYXlWUpy+u73bb0bFPbOkYDSRd2KLbtvx3uc3frHcJhwL9Leo/tW8scPOdQTXZ1QK2RjXJNHv0t6WCqacS/BHylVGlNAPaW9GvbjZicTdI44EXA1qrWp251k9wc+JPaAltTe/127xW9uu9Kc4jY/pu6zt2Vdwjw3EjAK6gaGN9Xig9v+pTITSdpCQ0d/V0Gd83y8+tKLKRa63lT4MIGXXl/CPgw1R//9sWFngK+YvuLdcTVW5lGozUafWOq3lCU9+Nsb9jXvtG3Mrr6HGAbV1PxvxJ4h+1Thv3c3ZgQ9Pzc/ZOpBqVdD3yAcsXjBs3dP9pI+g/bjRlz0E7ST22/uu39F21/oLz+ie1964tuTZL+3va/DrxlvJBI+hHV4kL/1tZ1+2cjMf9Wt1YZtebuB1hBtfbrfJo5d/+ooOfXp27y6O8t29+0kkExYYRj6ZOkN9q+Efhfrbnud1N+ljF8XmR7vnou9blqJE7clQnB9k51x/AC9Pa2100d/T1P0vts9+gGK+n9NGt96tdT9dp5e4fPmvKzjOHzqKRdeH5Sw0OBh0bixF1ZZRTDR9J+tv9joLI6lMFn36a6c2mtS7w3sBFwiHsuFB9RC0k7A+cCfwo8QTVV93ttLx32cychxFCSdHvvbrudyuok6Y3A7uXt4lI90zhlLqOfUM3WeXMdc9vEyJM0zvbKMsp/A9srJG1t+9FhP3cSQgwFSa+huqL5MHBm20ebAzNt71lHXKOZpI2o2rdeRzU54MuBRbZn1hpYDCtJdwLvs/2T8v5dwP+1PexrQHdlG0JbL6OO0stonfwRVffNsUD7XPhPUa0JG2tvNfCH8vws8DDwSK0RxUj4S+ACVWt//wkwnqp79LDryjsESffx/NqlO1DV0wl4MdU8Iml0XkeSdixrImxi+zcD7xF9kfRbqgnOzgCut93oSeNi6Eg6hGpuqBXA/q3FfYbbBiNxkqaxvZPtnakmC3u77a1tjwfeRnpwrK8/kXQXZQJBSXtKOrvmmEarw4GbqeZaukzSyZIaMXguho+k86mqXl8J/A3wHUnHjci5u/EOoUXSbbb37lW2wPa0umIa7STNo6oiumqkB9W8UJXJ4t5M9UfiJbY3rjeiGE6qlvj8vMsfZ0lbAGfYPmq4z92VdwhtHpX0/0maJGlHSf9Ew+dyHw1aU0O0WV1LIKOcpG+VnkZfADahmiN/y/73itHO9pluu1K3/eRIJAPo0kblNocDJ1LNaWSq2/PDa41o9HtA0p8ClvRHwAd5fv2JGARJrwYeoFpr4HbgvVRrA78E+Bmwsr7oYri1tXH2UKq5h/fc3Vxl1CJpU9tP1x3HC0FZMesLwJuoGup/AHwoDaKDJ+l24E22Hy/LKV4G/D0wFXiF7fTaegGTNL7t7Tiq2Zm3sv3JPnYZunN3c0IoV7LnAZva3kHSnlRr1/5dzaFFF5O0qDVuQ9KXgOW2Tyrvn1uDILqHpFtsv3a4z9PtVUZnAgcBVwHYXlSuyGItServ6sW2/3nEghn9xkgaa3sVcCAwu+2zbv+dfcGT1D6qfwNgGj3H9gybrv/PZfuBXrMKpgF03XQac7AJ1cpk46nW3I3B+QbVMp+PUi0882MASbsCT9YZWIyIz7W9XkU1l9FhI3Hibk8IaQAdIraf+08saTPgQ1R9qC+j53/wGIDtUyXdAGwL/KCtx8kGVG0J8QJm+w29yyR9GPjv4T53t7chdGoA/WCmrlg3ZUqQjwDvAS4GvmD7iXqjihj9JN1ve4fhPk+33yG8zPZ72gsk7QfUPlXzaCPps8A7qabt3SO9tiKGlAbeZAhO0uV3CI2fqnm0kPQs1ToDq+jZh1pUjcqb1xJYxAtA7hCGUdtUzRMkfaTto82BMfVENbrZ7vZR7xHrRdIKOgxIo7qoGpHpSroyIZCpmiOiYWyPSNfS/nR7ldGOtn9ZdxwREU3QlQlB0udtf1jSd+g8Z8g7aggrIqJW3VpldGl5Pr3WKCIiGqQr7xAiImJN3XqHADw35uAkYEeqn0Wri+SwTzMbEdE0XX2HIOke4B+A22ibwyhTNUdEN+rqOwTgSdvX1h1EREQTdPsdwmlUA9EupxplC4Dt22sLKiKiJt2eEH7Yodi23zjiwURE1KyrE0JERDyvK9sQes1fBNXgtEeBW2zfV0NIERG169YJyTbr9dicapm6ayXNqjOwiIi6pMqoTVng5fpMfx0R3ahb7xA6KiuljchCFBERTZOE0EbSG4Es+RgRXalbG5XvZM1ZTrcCHgSOGPmIIiLq15VtCJJ27FVk4DHbv6kjnoiIJujKhBAREWtKG0JERABJCBERUSQhRBSS/ljSZZJ+IekuSddIeukQHv8ASX86VMeLGGpJCBGAJAFXADfZ3sX2ZOATwDZDeJoDgI4JQVJX9viLZklCiKi8AfiD7S+3CmwvBG6R9FlJP5N0p6R3w3NX+1e3tpX0RUl/XV4vlXSypNvLPi+XNAk4BvgHSQslvU7SRZLOKLPuflbSvZImlGNsIGmJpK1H6gcQkauSiMoUqpXzensnMBXYE9ga+KmkmwdxvEdtv0rS3wH/x/bRkr4MPG37dABJRwEvBd5ke7WkXwPvAT4PvAlYZPvR9ftaEYOXO4SI/r0W+Ibt1bYfBn4EvHoQ+11enm8DJvWz3b/bbi3fegHPD4z8W+DCtQ83Yt0lIURUFgN7dyjva26rVfT8/RnX6/PWCnyr6f9O/LnBkLYfAB4uU6jsA2R51xhRSQgRlRuBjSS9r1Ug6dVUc1u9W9KYUr+/PzAf+CUwWdJGkrYADhzEOVZQTbfen/OArwJz2+4cIkZEEkIE1bqpwEzgz0q308XAScDXgTuARVRJ42O2f1Wu5ueWz74G/NcgTvMdYGarUbmPba4CNiXVRVGDTF0R0SCSpgFn2u4rYUQMm/QyimgISccDx1L1NIoYcblDiIgIIG0IERFRJCFERASQhBAREUUSQkREAEkIERFRJCFERAQA/w+G2DjOaIdHuAAAAABJRU5ErkJggg==\n",
      "text/plain": [
       "<Figure size 432x288 with 1 Axes>"
      ]
     },
     "metadata": {
      "needs_background": "light"
     },
     "output_type": "display_data"
    }
   ],
   "source": [
    "# Transform lists into a dataframe\n",
    "Linkedln_job_country_list = pd.DataFrame(\n",
    "    {'Country': country,\n",
    "     'Job_Counts': result,\n",
    "    })\n",
    "# Sort job opportunities \n",
    "df = Linkedln_job_country_list.sort_values(by=['Job_Counts'],ascending=False)\n",
    "# Summary of job counts in each country\n",
    "df.plot.bar(x='Country', y='Job_Counts')"
   ]
  },
  {
   "cell_type": "markdown",
   "id": "4ab1cad1",
   "metadata": {},
   "source": [
    "## Data Analyst Job Data Sets in Western Europe"
   ]
  },
  {
   "cell_type": "code",
   "execution_count": 10,
   "id": "f32a2275",
   "metadata": {},
   "outputs": [],
   "source": [
    "# Create lists to store information\n",
    "links = []\n",
    "job_titles = []\n",
    "company_names = []\n",
    "job_desc = []"
   ]
  },
  {
   "cell_type": "code",
   "execution_count": 11,
   "id": "0f673d26",
   "metadata": {},
   "outputs": [],
   "source": [
    "# Collect the links in each page\n",
    "max_page = []\n",
    "max_page_value = 0\n",
    "page_block = driver.find_element(By.CSS_SELECTOR,'.artdeco-pagination__pages')\n",
    "page_list= page_block.find_elements(By.CSS_SELECTOR, '.artdeco-pagination__indicator')\n",
    "for page in page_list:\n",
    "    max_page.append(page.text)\n",
    "max_page_value = int(max_page[-1])\n",
    "\n",
    "for i in range(max_page_value):\n",
    "    jobs_block = driver.find_element(By.CLASS_NAME,'jobs-search-results-list')\n",
    "    jobs_list= jobs_block.find_elements(By.CLASS_NAME, 'jobs-search-results__list-item')\n",
    "    for job in jobs_list:\n",
    "        # scroll down for each job element\n",
    "        driver.execute_script('arguments[0].scrollIntoView();', job)\n",
    "        all_links = job.find_elements(By.TAG_NAME,'a')\n",
    "        for a in all_links:\n",
    "            if str(a.get_attribute('href')).startswith(\"https://www.linkedin.com/jobs/view\") and a.get_attribute('href') not in links: \n",
    "                links.append(a.get_attribute('href'))\n",
    "            else:\n",
    "                pass\n",
    "    # Fit the page number:\n",
    "    if i == (max_page_value-1):\n",
    "        break\n",
    "    else:\n",
    "        k = i+ 2\n",
    "        # go to next page:\n",
    "        driver.find_element('xpath','//button[@aria-label=\"Page '+str(k)+'\"]').click()\n",
    "        time.sleep(3)\n",
    "    i+=1"
   ]
  },
  {
   "cell_type": "code",
   "execution_count": 12,
   "id": "c33bef05",
   "metadata": {},
   "outputs": [
    {
     "name": "stdout",
     "output_type": "stream",
     "text": [
      "Scraping the Job Offer 2 DONE.\n",
      "Scraping the Job Offer 3 DONE.\n",
      "Scraping the Job Offer 4 DONE.\n",
      "Scraping the Job Offer 5 DONE.\n",
      "Scraping the Job Offer 6 DONE.\n",
      "Scraping the Job Offer 7 DONE.\n",
      "Scraping the Job Offer 8 DONE.\n",
      "Scraping the Job Offer 9 DONE.\n",
      "Scraping the Job Offer 10 DONE.\n",
      "Scraping the Job Offer 11 DONE.\n",
      "Scraping the Job Offer 12 DONE.\n",
      "Scraping the Job Offer 13 DONE.\n",
      "Scraping the Job Offer 14 DONE.\n",
      "Scraping the Job Offer 15 DONE.\n",
      .,
      .,
      .,
      .,
      .,
      .,
      .,
      .,
      .,
     ]
    }
   ],
   "source": [
    "i = 0\n",
    "j = 1\n",
    "# Visit each link one by one to scrape the information\n",
    "for i in range(len(links)):\n",
    "    try:\n",
    "        driver.get(links[i])\n",
    "        i=i+1\n",
    "        time.sleep(5)\n",
    "        driver.find_elements(By.CSS_SELECTOR,\".artdeco-card__action\")[0].click()\n",
    "    except:\n",
    "        pass\n",
    "    \n",
    "    # Find the general information of the job offer\n",
    "    # Used try, except in case there is some missing information for some of the job offers\n",
    "    contents = driver.find_elements(By.CLASS_NAME,'p5')\n",
    "    for content in contents:\n",
    "        try:\n",
    "            job_titles.append(content.find_element(By.TAG_NAME,\"h1\").text)\n",
    "            company_names.append(content.find_element(By.CLASS_NAME,\"jobs-unified-top-card__company-name\").text)\n",
    "            j+= 1\n",
    "            \n",
    "        except:\n",
    "            pass\n",
    "        time.sleep(5)\n",
    "        \n",
    "        # Scraping the job description\n",
    "    job_description = driver.find_elements(By.CSS_SELECTOR,'.jobs-description__container')\n",
    "    for description in job_description:\n",
    "        job_desc.append(job_description[0].text)\n",
    "        print(f'Scraping the Job Offer {j} DONE.')\n",
    "        time.sleep(2) "
   ]
  },
  {
   "cell_type": "code",
   "execution_count": 14,
   "id": "2eb407ab",
   "metadata": {},
   "outputs": [],
   "source": [
    "# Creating a new dataframe \n",
    "df2 = pd.DataFrame(list(zip(job_titles,company_names,job_desc)), columns =['job_title', 'company_name','job_description'])\n",
    "# Storing the data to csv file\n",
    "df2.to_csv('France_job_oppotunities.csv', index=False)"
   ]
  },
  {
   "cell_type": "code",
   "execution_count": 17,
   "id": "f25f8939",
   "metadata": {},
   "outputs": [
    {
     "data": {
      "text/html": [
       "<div>\n",
       "<style scoped>\n",
       "    .dataframe tbody tr th:only-of-type {\n",
       "        vertical-align: middle;\n",
       "    }\n",
       "\n",
       "    .dataframe tbody tr th {\n",
       "        vertical-align: top;\n",
       "    }\n",
       "\n",
       "    .dataframe thead th {\n",
       "        text-align: right;\n",
       "    }\n",
       "</style>\n",
       "<table border=\"1\" class=\"dataframe\">\n",
       "  <thead>\n",
       "    <tr style=\"text-align: right;\">\n",
       "      <th></th>\n",
       "      <th>job_title</th>\n",
       "      <th>company_name</th>\n",
       "      <th>job_description</th>\n",
       "    </tr>\n",
       "  </thead>\n",
       "  <tbody>\n",
       "    <tr>\n",
       "      <th>0</th>\n",
       "      <td>Ingénieur Full Stack</td>\n",
       "      <td>BATCONNECT</td>\n",
       "      <td>About the job\\nRejoignez la team Batconnect po...</td>\n",
       "    </tr>\n",
       "    <tr>\n",
       "      <th>1</th>\n",
       "      <td>Développeuse ou développeur .NET</td>\n",
       "      <td>Berger-Levrault</td>\n",
       "      <td>About the job\\nInformations générales\\n\\nLocal...</td>\n",
       "    </tr>\n",
       "    <tr>\n",
       "      <th>2</th>\n",
       "      <td>Online Data Analyst</td>\n",
       "      <td>TELUS International</td>\n",
       "      <td>About the job\\nAnalyste de données en ligne - ...</td>\n",
       "    </tr>\n",
       "    <tr>\n",
       "      <th>3</th>\n",
       "      <td>Online Data Analyst</td>\n",
       "      <td>TELUS International</td>\n",
       "      <td>About the job\\nAnalyste de données en ligne - ...</td>\n",
       "    </tr>\n",
       "    <tr>\n",
       "      <th>4</th>\n",
       "      <td>Online Data Analyst</td>\n",
       "      <td>TELUS International</td>\n",
       "      <td>About the job\\nAnalyste de données en ligne - ...</td>\n",
       "    </tr>\n",
       "    <tr>\n",
       "      <th>5</th>\n",
       "      <td>Senior Data Analyst / Data translator F/H</td>\n",
       "      <td>Carrefour</td>\n",
       "      <td>About the job\\nDescription du poste :\\n\\nL'uti...</td>\n",
       "    </tr>\n",
       "    <tr>\n",
       "      <th>6</th>\n",
       "      <td>Senior Data Analyst - Marketing H/F</td>\n",
       "      <td>Betclic Group</td>\n",
       "      <td>About the job\\nWE ARE BETCLIC\\n\\nEntreprise fr...</td>\n",
       "    </tr>\n",
       "    <tr>\n",
       "      <th>7</th>\n",
       "      <td>DPBA - Data Analyst</td>\n",
       "      <td>Airbus</td>\n",
       "      <td>About the job\\nDescription\\n\\nJob Description:...</td>\n",
       "    </tr>\n",
       "    <tr>\n",
       "      <th>8</th>\n",
       "      <td>CDI - Data Analyst F/H</td>\n",
       "      <td>Lacoste</td>\n",
       "      <td>About the job\\nDescription de la mission\\n\\nMi...</td>\n",
       "    </tr>\n",
       "    <tr>\n",
       "      <th>9</th>\n",
       "      <td>Senior Data Analyst - Marketing H/F</td>\n",
       "      <td>Betclic Group</td>\n",
       "      <td>About the job\\nWE ARE BETCLIC\\nEntreprise fran...</td>\n",
       "    </tr>\n",
       "    <tr>\n",
       "      <th>10</th>\n",
       "      <td>Data/Analyst Data Translator F/H</td>\n",
       "      <td>Carrefour</td>\n",
       "      <td>About the job\\nDescription du poste :\\n\\nLe Gr...</td>\n",
       "    </tr>\n",
       "  </tbody>\n",
       "</table>\n",
       "</div>"
      ],
      "text/plain": [
       "                                    job_title         company_name  \\\n",
       "0                        Ingénieur Full Stack           BATCONNECT   \n",
       "1            Développeuse ou développeur .NET      Berger-Levrault   \n",
       "2                         Online Data Analyst  TELUS International   \n",
       "3                         Online Data Analyst  TELUS International   \n",
       "4                         Online Data Analyst  TELUS International   \n",
       "5   Senior Data Analyst / Data translator F/H            Carrefour   \n",
       "6         Senior Data Analyst - Marketing H/F        Betclic Group   \n",
       "7                         DPBA - Data Analyst               Airbus   \n",
       "8                      CDI - Data Analyst F/H              Lacoste   \n",
       "9         Senior Data Analyst - Marketing H/F        Betclic Group   \n",
       "10           Data/Analyst Data Translator F/H            Carrefour   \n",
       "\n",
       "                                      job_description  \n",
       "0   About the job\\nRejoignez la team Batconnect po...  \n",
       "1   About the job\\nInformations générales\\n\\nLocal...  \n",
       "2   About the job\\nAnalyste de données en ligne - ...  \n",
       "3   About the job\\nAnalyste de données en ligne - ...  \n",
       "4   About the job\\nAnalyste de données en ligne - ...  \n",
       "5   About the job\\nDescription du poste :\\n\\nL'uti...  \n",
       "6   About the job\\nWE ARE BETCLIC\\n\\nEntreprise fr...  \n",
       "7   About the job\\nDescription\\n\\nJob Description:...  \n",
       "8   About the job\\nDescription de la mission\\n\\nMi...  \n",
       "9   About the job\\nWE ARE BETCLIC\\nEntreprise fran...  \n",
       "10  About the job\\nDescription du poste :\\n\\nLe Gr...  "
      ]
     },
     "execution_count": 17,
     "metadata": {},
     "output_type": "execute_result"
    }
   ],
   "source": [
    "df2.head(11)"
   ]
  }
 ],
 "metadata": {
  "kernelspec": {
   "display_name": "Python 3",
   "language": "python",
   "name": "python3"
  },
  "language_info": {
   "codemirror_mode": {
    "name": "ipython",
    "version": 3
   },
   "file_extension": ".py",
   "mimetype": "text/x-python",
   "name": "python",
   "nbconvert_exporter": "python",
   "pygments_lexer": "ipython3",
   "version": "3.8.8"
  }
 },
 "nbformat": 4,
 "nbformat_minor": 5
}
